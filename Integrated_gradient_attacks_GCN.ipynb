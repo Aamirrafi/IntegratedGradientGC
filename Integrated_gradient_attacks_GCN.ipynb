{
  "nbformat": 4,
  "nbformat_minor": 0,
  "metadata": {
    "kernelspec": {
      "display_name": "Python 3",
      "language": "python",
      "name": "python3"
    },
    "language_info": {
      "codemirror_mode": {
        "name": "ipython",
        "version": 3
      },
      "file_extension": ".py",
      "mimetype": "text/x-python",
      "name": "python",
      "nbconvert_exporter": "python",
      "pygments_lexer": "ipython3",
      "version": "3.6.9"
    },
    "colab": {
      "name": "Integrated_gradient_attacks_GCN.ipynb",
      "provenance": [],
      "collapsed_sections": [
        "sIvXgeB_vJzg",
        "4L_0YbyKvJ0I"
      ],
      "include_colab_link": true
    }
  },
  "cells": [
    {
      "cell_type": "markdown",
      "metadata": {
        "id": "view-in-github",
        "colab_type": "text"
      },
      "source": [
        "<a href=\"https://colab.research.google.com/github/Aamirrafi/IntegratedGradientGC/blob/main/Integrated_gradient_attacks_GCN.ipynb\" target=\"_parent\"><img src=\"https://colab.research.google.com/assets/colab-badge.svg\" alt=\"Open In Colab\"/></a>"
      ]
    },
    {
      "cell_type": "markdown",
      "metadata": {
        "id": "S3QmdQsevJxt"
      },
      "source": [
        "# Interpreting nodes and edges with saliency maps in GCN (sparse)\n"
      ]
    },
    {
      "cell_type": "markdown",
      "metadata": {
        "nbsphinx": "hidden",
        "tags": [
          "CloudRunner"
        ],
        "id": "couKtQW4vJx6"
      },
      "source": [
        "<table><tr><td>Run the latest release of this notebook:</td><td><a href=\"https://mybinder.org/v2/gh/stellargraph/stellargraph/master?urlpath=lab/tree/demos/interpretability/gcn-sparse-node-link-importance.ipynb\" alt=\"Open In Binder\" target=\"_parent\"><img src=\"https://mybinder.org/badge_logo.svg\"/></a></td><td><a href=\"https://colab.research.google.com/github/stellargraph/stellargraph/blob/master/demos/interpretability/gcn-sparse-node-link-importance.ipynb\" alt=\"Open In Colab\" target=\"_parent\"><img src=\"https://colab.research.google.com/assets/colab-badge.svg\"/></a></td></tr></table>"
      ]
    },
    {
      "cell_type": "markdown",
      "metadata": {
        "id": "oe_VWTQsvJx8"
      },
      "source": [
        "This Code below shows how to use integrated gradients in graph convolutional networks to obtain accurate importance estimations for both the nodes and edges.\n",
        "- setting up the node classification problem for Cora citation network\n",
        "- training and evaluating a GCN model for node classification\n",
        "- calculating node and edge importances for model's predictions of query (\"target\") nodes\n",
        "\n",
        "\n"
      ]
    },
    {
      "cell_type": "code",
      "metadata": {
        "nbsphinx": "hidden",
        "tags": [
          "CloudRunner"
        ],
        "id": "eZDImTQxvJx9",
        "colab": {
          "base_uri": "https://localhost:8080/"
        },
        "outputId": "f5cb5e5d-2653-4421-b762-2f15f9e28a0d"
      },
      "source": [
        "# install StellarGraph if running on Google Colab\n",
        "import sys\n",
        "if 'google.colab' in sys.modules:\n",
        "  %pip install -q stellargraph[demos]==1.2.1"
      ],
      "execution_count": 1,
      "outputs": [
        {
          "output_type": "stream",
          "text": [
            "\u001b[K     |████████████████████████████████| 440kB 5.6MB/s \n",
            "\u001b[K     |████████████████████████████████| 235kB 8.2MB/s \n",
            "\u001b[K     |████████████████████████████████| 51kB 4.4MB/s \n",
            "\u001b[?25h  Building wheel for mplleaflet (setup.py) ... \u001b[?25l\u001b[?25hdone\n"
          ],
          "name": "stdout"
        }
      ]
    },
    {
      "cell_type": "code",
      "metadata": {
        "id": "cxRJR6l63P1-",
        "colab": {
          "base_uri": "https://localhost:8080/"
        },
        "outputId": "5ebf3a31-85ca-40b2-e708-71baf5072b95"
      },
      "source": [
        "!pip install --upgrade stellargraph\n"
      ],
      "execution_count": null,
      "outputs": [
        {
          "output_type": "stream",
          "text": [
            "Requirement already up-to-date: stellargraph in /usr/local/lib/python3.6/dist-packages (1.2.1)\n",
            "Requirement already satisfied, skipping upgrade: gensim>=3.4.0 in /usr/local/lib/python3.6/dist-packages (from stellargraph) (3.6.0)\n",
            "Requirement already satisfied, skipping upgrade: scikit-learn>=0.20 in /usr/local/lib/python3.6/dist-packages (from stellargraph) (0.22.2.post1)\n",
            "Requirement already satisfied, skipping upgrade: networkx>=2.2 in /usr/local/lib/python3.6/dist-packages (from stellargraph) (2.5)\n",
            "Requirement already satisfied, skipping upgrade: tensorflow>=2.1.0 in /usr/local/lib/python3.6/dist-packages (from stellargraph) (2.3.0)\n",
            "Requirement already satisfied, skipping upgrade: pandas>=0.24 in /usr/local/lib/python3.6/dist-packages (from stellargraph) (1.1.4)\n",
            "Requirement already satisfied, skipping upgrade: numpy>=1.14 in /usr/local/lib/python3.6/dist-packages (from stellargraph) (1.18.5)\n",
            "Requirement already satisfied, skipping upgrade: scipy>=1.1.0 in /usr/local/lib/python3.6/dist-packages (from stellargraph) (1.4.1)\n",
            "Requirement already satisfied, skipping upgrade: matplotlib>=2.2 in /usr/local/lib/python3.6/dist-packages (from stellargraph) (3.2.2)\n",
            "Requirement already satisfied, skipping upgrade: six>=1.5.0 in /usr/local/lib/python3.6/dist-packages (from gensim>=3.4.0->stellargraph) (1.15.0)\n",
            "Requirement already satisfied, skipping upgrade: smart-open>=1.2.1 in /usr/local/lib/python3.6/dist-packages (from gensim>=3.4.0->stellargraph) (3.0.0)\n",
            "Requirement already satisfied, skipping upgrade: joblib>=0.11 in /usr/local/lib/python3.6/dist-packages (from scikit-learn>=0.20->stellargraph) (0.17.0)\n",
            "Requirement already satisfied, skipping upgrade: decorator>=4.3.0 in /usr/local/lib/python3.6/dist-packages (from networkx>=2.2->stellargraph) (4.4.2)\n",
            "Requirement already satisfied, skipping upgrade: tensorboard<3,>=2.3.0 in /usr/local/lib/python3.6/dist-packages (from tensorflow>=2.1.0->stellargraph) (2.3.0)\n",
            "Requirement already satisfied, skipping upgrade: tensorflow-estimator<2.4.0,>=2.3.0 in /usr/local/lib/python3.6/dist-packages (from tensorflow>=2.1.0->stellargraph) (2.3.0)\n",
            "Requirement already satisfied, skipping upgrade: wrapt>=1.11.1 in /usr/local/lib/python3.6/dist-packages (from tensorflow>=2.1.0->stellargraph) (1.12.1)\n",
            "Requirement already satisfied, skipping upgrade: wheel>=0.26 in /usr/local/lib/python3.6/dist-packages (from tensorflow>=2.1.0->stellargraph) (0.35.1)\n",
            "Requirement already satisfied, skipping upgrade: gast==0.3.3 in /usr/local/lib/python3.6/dist-packages (from tensorflow>=2.1.0->stellargraph) (0.3.3)\n",
            "Requirement already satisfied, skipping upgrade: termcolor>=1.1.0 in /usr/local/lib/python3.6/dist-packages (from tensorflow>=2.1.0->stellargraph) (1.1.0)\n",
            "Requirement already satisfied, skipping upgrade: opt-einsum>=2.3.2 in /usr/local/lib/python3.6/dist-packages (from tensorflow>=2.1.0->stellargraph) (3.3.0)\n",
            "Requirement already satisfied, skipping upgrade: astunparse==1.6.3 in /usr/local/lib/python3.6/dist-packages (from tensorflow>=2.1.0->stellargraph) (1.6.3)\n",
            "Requirement already satisfied, skipping upgrade: h5py<2.11.0,>=2.10.0 in /usr/local/lib/python3.6/dist-packages (from tensorflow>=2.1.0->stellargraph) (2.10.0)\n",
            "Requirement already satisfied, skipping upgrade: protobuf>=3.9.2 in /usr/local/lib/python3.6/dist-packages (from tensorflow>=2.1.0->stellargraph) (3.12.4)\n",
            "Requirement already satisfied, skipping upgrade: grpcio>=1.8.6 in /usr/local/lib/python3.6/dist-packages (from tensorflow>=2.1.0->stellargraph) (1.33.2)\n",
            "Requirement already satisfied, skipping upgrade: absl-py>=0.7.0 in /usr/local/lib/python3.6/dist-packages (from tensorflow>=2.1.0->stellargraph) (0.10.0)\n",
            "Requirement already satisfied, skipping upgrade: keras-preprocessing<1.2,>=1.1.1 in /usr/local/lib/python3.6/dist-packages (from tensorflow>=2.1.0->stellargraph) (1.1.2)\n",
            "Requirement already satisfied, skipping upgrade: google-pasta>=0.1.8 in /usr/local/lib/python3.6/dist-packages (from tensorflow>=2.1.0->stellargraph) (0.2.0)\n",
            "Requirement already satisfied, skipping upgrade: python-dateutil>=2.7.3 in /usr/local/lib/python3.6/dist-packages (from pandas>=0.24->stellargraph) (2.8.1)\n",
            "Requirement already satisfied, skipping upgrade: pytz>=2017.2 in /usr/local/lib/python3.6/dist-packages (from pandas>=0.24->stellargraph) (2018.9)\n",
            "Requirement already satisfied, skipping upgrade: kiwisolver>=1.0.1 in /usr/local/lib/python3.6/dist-packages (from matplotlib>=2.2->stellargraph) (1.3.1)\n",
            "Requirement already satisfied, skipping upgrade: pyparsing!=2.0.4,!=2.1.2,!=2.1.6,>=2.0.1 in /usr/local/lib/python3.6/dist-packages (from matplotlib>=2.2->stellargraph) (2.4.7)\n",
            "Requirement already satisfied, skipping upgrade: cycler>=0.10 in /usr/local/lib/python3.6/dist-packages (from matplotlib>=2.2->stellargraph) (0.10.0)\n",
            "Requirement already satisfied, skipping upgrade: requests in /usr/local/lib/python3.6/dist-packages (from smart-open>=1.2.1->gensim>=3.4.0->stellargraph) (2.23.0)\n",
            "Requirement already satisfied, skipping upgrade: markdown>=2.6.8 in /usr/local/lib/python3.6/dist-packages (from tensorboard<3,>=2.3.0->tensorflow>=2.1.0->stellargraph) (3.3.3)\n",
            "Requirement already satisfied, skipping upgrade: tensorboard-plugin-wit>=1.6.0 in /usr/local/lib/python3.6/dist-packages (from tensorboard<3,>=2.3.0->tensorflow>=2.1.0->stellargraph) (1.7.0)\n",
            "Requirement already satisfied, skipping upgrade: setuptools>=41.0.0 in /usr/local/lib/python3.6/dist-packages (from tensorboard<3,>=2.3.0->tensorflow>=2.1.0->stellargraph) (50.3.2)\n",
            "Requirement already satisfied, skipping upgrade: google-auth-oauthlib<0.5,>=0.4.1 in /usr/local/lib/python3.6/dist-packages (from tensorboard<3,>=2.3.0->tensorflow>=2.1.0->stellargraph) (0.4.2)\n",
            "Requirement already satisfied, skipping upgrade: google-auth<2,>=1.6.3 in /usr/local/lib/python3.6/dist-packages (from tensorboard<3,>=2.3.0->tensorflow>=2.1.0->stellargraph) (1.17.2)\n",
            "Requirement already satisfied, skipping upgrade: werkzeug>=0.11.15 in /usr/local/lib/python3.6/dist-packages (from tensorboard<3,>=2.3.0->tensorflow>=2.1.0->stellargraph) (1.0.1)\n",
            "Requirement already satisfied, skipping upgrade: urllib3!=1.25.0,!=1.25.1,<1.26,>=1.21.1 in /usr/local/lib/python3.6/dist-packages (from requests->smart-open>=1.2.1->gensim>=3.4.0->stellargraph) (1.24.3)\n",
            "Requirement already satisfied, skipping upgrade: certifi>=2017.4.17 in /usr/local/lib/python3.6/dist-packages (from requests->smart-open>=1.2.1->gensim>=3.4.0->stellargraph) (2020.6.20)\n",
            "Requirement already satisfied, skipping upgrade: idna<3,>=2.5 in /usr/local/lib/python3.6/dist-packages (from requests->smart-open>=1.2.1->gensim>=3.4.0->stellargraph) (2.10)\n",
            "Requirement already satisfied, skipping upgrade: chardet<4,>=3.0.2 in /usr/local/lib/python3.6/dist-packages (from requests->smart-open>=1.2.1->gensim>=3.4.0->stellargraph) (3.0.4)\n",
            "Requirement already satisfied, skipping upgrade: importlib-metadata; python_version < \"3.8\" in /usr/local/lib/python3.6/dist-packages (from markdown>=2.6.8->tensorboard<3,>=2.3.0->tensorflow>=2.1.0->stellargraph) (2.0.0)\n",
            "Requirement already satisfied, skipping upgrade: requests-oauthlib>=0.7.0 in /usr/local/lib/python3.6/dist-packages (from google-auth-oauthlib<0.5,>=0.4.1->tensorboard<3,>=2.3.0->tensorflow>=2.1.0->stellargraph) (1.3.0)\n",
            "Requirement already satisfied, skipping upgrade: cachetools<5.0,>=2.0.0 in /usr/local/lib/python3.6/dist-packages (from google-auth<2,>=1.6.3->tensorboard<3,>=2.3.0->tensorflow>=2.1.0->stellargraph) (4.1.1)\n",
            "Requirement already satisfied, skipping upgrade: rsa<5,>=3.1.4; python_version >= \"3\" in /usr/local/lib/python3.6/dist-packages (from google-auth<2,>=1.6.3->tensorboard<3,>=2.3.0->tensorflow>=2.1.0->stellargraph) (4.6)\n",
            "Requirement already satisfied, skipping upgrade: pyasn1-modules>=0.2.1 in /usr/local/lib/python3.6/dist-packages (from google-auth<2,>=1.6.3->tensorboard<3,>=2.3.0->tensorflow>=2.1.0->stellargraph) (0.2.8)\n",
            "Requirement already satisfied, skipping upgrade: zipp>=0.5 in /usr/local/lib/python3.6/dist-packages (from importlib-metadata; python_version < \"3.8\"->markdown>=2.6.8->tensorboard<3,>=2.3.0->tensorflow>=2.1.0->stellargraph) (3.4.0)\n",
            "Requirement already satisfied, skipping upgrade: oauthlib>=3.0.0 in /usr/local/lib/python3.6/dist-packages (from requests-oauthlib>=0.7.0->google-auth-oauthlib<0.5,>=0.4.1->tensorboard<3,>=2.3.0->tensorflow>=2.1.0->stellargraph) (3.1.0)\n",
            "Requirement already satisfied, skipping upgrade: pyasn1>=0.1.3 in /usr/local/lib/python3.6/dist-packages (from rsa<5,>=3.1.4; python_version >= \"3\"->google-auth<2,>=1.6.3->tensorboard<3,>=2.3.0->tensorflow>=2.1.0->stellargraph) (0.4.8)\n"
          ],
          "name": "stdout"
        }
      ]
    },
    {
      "cell_type": "code",
      "metadata": {
        "nbsphinx": "hidden",
        "tags": [
          "VersionCheck"
        ],
        "id": "Q2RVNijGvJyK"
      },
      "source": [
        "# verify that we're using the correct version of StellarGraph for this notebook\n",
        "import stellargraph as sg\n",
        "\n",
        "try:\n",
        "    sg.utils.validate_notebook_version(\"1.2.1\")\n",
        "except AttributeError:\n",
        "    raise ValueError(\n",
        "        f\"This notebook requires StellarGraph version 1.3.0b, but a different version {sg.__version__} is installed.  Please see <https://github.com/stellargraph/stellargraph/issues/1172>.\"\n",
        "    ) from None"
      ],
      "execution_count": 2,
      "outputs": []
    },
    {
      "cell_type": "code",
      "metadata": {
        "id": "6mVceJYyvJyU"
      },
      "source": [
        "import networkx as nx\n",
        "import pandas as pd\n",
        "import numpy as np\n",
        "from scipy import stats\n",
        "import os\n",
        "import time\n",
        "import stellargraph as sg\n",
        "from stellargraph.mapper import FullBatchNodeGenerator\n",
        "from stellargraph.layer import GCN\n",
        "from tensorflow import keras\n",
        "from tensorflow.keras import layers, optimizers, losses, metrics, Model, regularizers\n",
        "from sklearn import preprocessing, feature_extraction, model_selection\n",
        "from copy import deepcopy\n",
        "import matplotlib.pyplot as plt\n",
        "from stellargraph import datasets\n",
        "from IPython.display import display, HTML\n",
        "%matplotlib inline"
      ],
      "execution_count": 3,
      "outputs": []
    },
    {
      "cell_type": "markdown",
      "metadata": {
        "id": "-2lOnADivJys"
      },
      "source": [
        "## Loading the CORA network"
      ]
    },
    {
      "cell_type": "markdown",
      "metadata": {
        "tags": [
          "DataLoadingLinks"
        ],
        "id": "cEFMvf7vvJyu"
      },
      "source": [
        "(See [the \"Loading from Pandas\" demo](../basics/loading-pandas.ipynb) for details on how data can be loaded.)"
      ]
    },
    {
      "cell_type": "code",
      "metadata": {
        "tags": [
          "DataLoading"
        ],
        "id": "h1pSA2-gvJyv",
        "colab": {
          "base_uri": "https://localhost:8080/",
          "height": 286
        },
        "outputId": "1a5a4a91-7cb4-4974-e76b-cf2de7eac41d"
      },
      "source": [
        "dataset = datasets.Cora()\n",
        "display(HTML(dataset.description))\n",
        "G, subjects = dataset.load()\n",
        "subjects.value_counts().to_frame()\n",
        "# type(G)\n"
      ],
      "execution_count": 4,
      "outputs": [
        {
          "output_type": "display_data",
          "data": {
            "text/html": [
              "The Cora dataset consists of 2708 scientific publications classified into one of seven classes. The citation network consists of 5429 links. Each publication in the dataset is described by a 0/1-valued word vector indicating the absence/presence of the corresponding word from the dictionary. The dictionary consists of 1433 unique words."
            ],
            "text/plain": [
              "<IPython.core.display.HTML object>"
            ]
          },
          "metadata": {
            "tags": []
          }
        },
        {
          "output_type": "execute_result",
          "data": {
            "text/html": [
              "<div>\n",
              "<style scoped>\n",
              "    .dataframe tbody tr th:only-of-type {\n",
              "        vertical-align: middle;\n",
              "    }\n",
              "\n",
              "    .dataframe tbody tr th {\n",
              "        vertical-align: top;\n",
              "    }\n",
              "\n",
              "    .dataframe thead th {\n",
              "        text-align: right;\n",
              "    }\n",
              "</style>\n",
              "<table border=\"1\" class=\"dataframe\">\n",
              "  <thead>\n",
              "    <tr style=\"text-align: right;\">\n",
              "      <th></th>\n",
              "      <th>subject</th>\n",
              "    </tr>\n",
              "  </thead>\n",
              "  <tbody>\n",
              "    <tr>\n",
              "      <th>Neural_Networks</th>\n",
              "      <td>818</td>\n",
              "    </tr>\n",
              "    <tr>\n",
              "      <th>Probabilistic_Methods</th>\n",
              "      <td>426</td>\n",
              "    </tr>\n",
              "    <tr>\n",
              "      <th>Genetic_Algorithms</th>\n",
              "      <td>418</td>\n",
              "    </tr>\n",
              "    <tr>\n",
              "      <th>Theory</th>\n",
              "      <td>351</td>\n",
              "    </tr>\n",
              "    <tr>\n",
              "      <th>Case_Based</th>\n",
              "      <td>298</td>\n",
              "    </tr>\n",
              "    <tr>\n",
              "      <th>Reinforcement_Learning</th>\n",
              "      <td>217</td>\n",
              "    </tr>\n",
              "    <tr>\n",
              "      <th>Rule_Learning</th>\n",
              "      <td>180</td>\n",
              "    </tr>\n",
              "  </tbody>\n",
              "</table>\n",
              "</div>"
            ],
            "text/plain": [
              "                        subject\n",
              "Neural_Networks             818\n",
              "Probabilistic_Methods       426\n",
              "Genetic_Algorithms          418\n",
              "Theory                      351\n",
              "Case_Based                  298\n",
              "Reinforcement_Learning      217\n",
              "Rule_Learning               180"
            ]
          },
          "metadata": {
            "tags": []
          },
          "execution_count": 4
        }
      ]
    },
    {
      "cell_type": "code",
      "metadata": {
        "id": "p2i2irgRSNbS",
        "colab": {
          "base_uri": "https://localhost:8080/",
          "height": 275
        },
        "outputId": "fccf4d4e-f5a5-42d1-e952-2411a7f17caa"
      },
      "source": [
        "# datasetseer = datasets.CiteSeer()\n",
        "# display(HTML(datasetseer.description))\n",
        "# G, subjects = datasetseer.load()\n",
        "# subjects.value_counts().to_frame()"
      ],
      "execution_count": null,
      "outputs": [
        {
          "output_type": "display_data",
          "data": {
            "text/html": [
              "The CiteSeer dataset consists of 3312 scientific publications classified into one of six classes. The citation network consists of 4732 links, although 17 of these have a source or target publication that isn't in the dataset and only 4715 are included in the graph. Each publication in the dataset is described by a 0/1-valued word vector indicating the absence/presence of the corresponding word from the dictionary. The dictionary consists of 3703 unique words."
            ],
            "text/plain": [
              "<IPython.core.display.HTML object>"
            ]
          },
          "metadata": {
            "tags": []
          }
        },
        {
          "output_type": "execute_result",
          "data": {
            "text/html": [
              "<div>\n",
              "<style scoped>\n",
              "    .dataframe tbody tr th:only-of-type {\n",
              "        vertical-align: middle;\n",
              "    }\n",
              "\n",
              "    .dataframe tbody tr th {\n",
              "        vertical-align: top;\n",
              "    }\n",
              "\n",
              "    .dataframe thead th {\n",
              "        text-align: right;\n",
              "    }\n",
              "</style>\n",
              "<table border=\"1\" class=\"dataframe\">\n",
              "  <thead>\n",
              "    <tr style=\"text-align: right;\">\n",
              "      <th></th>\n",
              "      <th>subject</th>\n",
              "    </tr>\n",
              "  </thead>\n",
              "  <tbody>\n",
              "    <tr>\n",
              "      <th>DB</th>\n",
              "      <td>701</td>\n",
              "    </tr>\n",
              "    <tr>\n",
              "      <th>IR</th>\n",
              "      <td>668</td>\n",
              "    </tr>\n",
              "    <tr>\n",
              "      <th>Agents</th>\n",
              "      <td>596</td>\n",
              "    </tr>\n",
              "    <tr>\n",
              "      <th>ML</th>\n",
              "      <td>590</td>\n",
              "    </tr>\n",
              "    <tr>\n",
              "      <th>HCI</th>\n",
              "      <td>508</td>\n",
              "    </tr>\n",
              "    <tr>\n",
              "      <th>AI</th>\n",
              "      <td>249</td>\n",
              "    </tr>\n",
              "  </tbody>\n",
              "</table>\n",
              "</div>"
            ],
            "text/plain": [
              "        subject\n",
              "DB          701\n",
              "IR          668\n",
              "Agents      596\n",
              "ML          590\n",
              "HCI         508\n",
              "AI          249"
            ]
          },
          "metadata": {
            "tags": []
          },
          "execution_count": 8
        }
      ]
    },
    {
      "cell_type": "markdown",
      "metadata": {
        "id": "M-lF-VJqvJy-"
      },
      "source": [
        "### Splitting the data"
      ]
    },
    {
      "cell_type": "markdown",
      "metadata": {
        "id": "dTw0iH59vJy_"
      },
      "source": [
        "For machine learning we want to take a subset of the nodes for training, and use the rest for validation and testing. We'll use scikit-learn again to do this.\n",
        "\n",
        "Here we're taking 140 node labels for training, 500 for validation, and the rest for testing."
      ]
    },
    {
      "cell_type": "code",
      "metadata": {
        "id": "zE36Igp-vJzB",
        "colab": {
          "base_uri": "https://localhost:8080/"
        },
        "outputId": "c77ceafe-88d1-4539-ee5a-68e9b114a7f7"
      },
      "source": [
        "train_subjects, test_subjects = model_selection.train_test_split(\n",
        "    subjects, train_size=140, test_size=None, stratify=subjects\n",
        ")\n",
        "print((len(train_subjects), len(test_subjects)))\n",
        "val_subjects, test_subjects = model_selection.train_test_split(\n",
        "    test_subjects, train_size=500, test_size=None, stratify=test_subjects\n",
        ")\n",
        "# len(train_subjects)\n",
        "# len(test_subjects)\n",
        "# len(test_subjects)\n",
        "val_subjects.shape"
      ],
      "execution_count": 5,
      "outputs": [
        {
          "output_type": "stream",
          "text": [
            "(140, 2568)\n"
          ],
          "name": "stdout"
        },
        {
          "output_type": "execute_result",
          "data": {
            "text/plain": [
              "(500,)"
            ]
          },
          "metadata": {
            "tags": []
          },
          "execution_count": 5
        }
      ]
    },
    {
      "cell_type": "markdown",
      "metadata": {
        "id": "hxMwbR_GvJzS"
      },
      "source": [
        "### Converting to numeric arrays"
      ]
    },
    {
      "cell_type": "markdown",
      "metadata": {
        "id": "Ek3OMLgxvJzU"
      },
      "source": [
        "For our categorical target, we will use one-hot vectors that will be fed into a soft-max Keras layer during training. To do this conversion ..."
      ]
    },
    {
      "cell_type": "code",
      "metadata": {
        "id": "GYLXi06CvJzV"
      },
      "source": [
        "target_encoding = preprocessing.LabelBinarizer()\n",
        "\n",
        "train_targets = target_encoding.fit_transform(train_subjects)\n",
        "val_targets = target_encoding.transform(val_subjects)\n",
        "test_targets = target_encoding.transform(test_subjects)\n",
        "\n",
        "all_targets = target_encoding.transform(subjects)\n",
        "# tes_targets[:1]\n",
        "# train_targets"
      ],
      "execution_count": 6,
      "outputs": []
    },
    {
      "cell_type": "markdown",
      "metadata": {
        "id": "sIvXgeB_vJzg"
      },
      "source": [
        "### Creating the GCN model in Keras"
      ]
    },
    {
      "cell_type": "markdown",
      "metadata": {
        "id": "_3C9ON72vJzh"
      },
      "source": [
        "To feed data from the graph to the Keras model we need a generator. Since GCN is a full-batch model, we use the `FullBatchNodeGenerator` class."
      ]
    },
    {
      "cell_type": "code",
      "metadata": {
        "id": "5opm6uOrvJzj",
        "colab": {
          "base_uri": "https://localhost:8080/"
        },
        "outputId": "64337d20-9505-44cb-a4da-3de38633e4bd"
      },
      "source": [
        "generator = FullBatchNodeGenerator(G, sparse=True)"
      ],
      "execution_count": 11,
      "outputs": [
        {
          "output_type": "stream",
          "text": [
            "Using GCN (local pooling) filters...\n"
          ],
          "name": "stdout"
        }
      ]
    },
    {
      "cell_type": "markdown",
      "metadata": {
        "id": "nSLJdtNPvJzr"
      },
      "source": [
        "For training we map only the training nodes returned from our splitter and the target values."
      ]
    },
    {
      "cell_type": "code",
      "metadata": {
        "id": "mEexbt1avJzs"
      },
      "source": [
        "train_gen = generator.flow(train_subjects.index, train_targets)"
      ],
      "execution_count": 12,
      "outputs": []
    },
    {
      "cell_type": "markdown",
      "metadata": {
        "id": "_w-g9Rc0vJz1"
      },
      "source": [
        " we specify our machine learning model: tn this example we use two GCN layers with 16-dimensional hidden node features at each layer with ELU activation functions."
      ]
    },
    {
      "cell_type": "code",
      "metadata": {
        "id": "ffw1nAjrvJz3"
      },
      "source": [
        "layer_sizes = [16, 16]\n",
        "gcn = GCN(\n",
        "    layer_sizes=layer_sizes,\n",
        "    activations=[\"relu\", \"relu\"],\n",
        "    generator=generator,\n",
        "    dropout=0.3,\n",
        "    kernel_regularizer=regularizers.l2(5e-4),\n",
        ")"
      ],
      "execution_count": 13,
      "outputs": []
    },
    {
      "cell_type": "code",
      "metadata": {
        "id": "hZD6sU2mvJ0A"
      },
      "source": [
        "# Expose the input and output tensors of the GCN model for node prediction, via GCN.in_out_tensors() method:\n",
        "x_inp, x_out = gcn.in_out_tensors()\n",
        "# Snap the final estimator layer to x_out\n",
        "x_out = layers.Dense(units=train_targets.shape[1], activation=\"softmax\")(x_out)"
      ],
      "execution_count": 14,
      "outputs": []
    },
    {
      "cell_type": "markdown",
      "metadata": {
        "id": "4L_0YbyKvJ0I"
      },
      "source": [
        "### Training the model"
      ]
    },
    {
      "cell_type": "markdown",
      "metadata": {
        "id": "Ho6V4D00vJ0J"
      },
      "source": [
        " create the actual Keras model with the input tensors `x_inp` and output tensors being the predictions `x_out` from the final dense layer"
      ]
    },
    {
      "cell_type": "code",
      "metadata": {
        "id": "eV_SmOYwvJ0L"
      },
      "source": [
        "model = keras.Model(inputs=x_inp, outputs=x_out)\n",
        "\n",
        "model.compile(\n",
        "    optimizer=optimizers.Adam(lr=0.01),  # decay=0.001),\n",
        "    loss=losses.categorical_crossentropy,\n",
        "    metrics=[metrics.categorical_accuracy],\n",
        ")"
      ],
      "execution_count": 15,
      "outputs": []
    },
    {
      "cell_type": "markdown",
      "metadata": {
        "id": "zGAPnx_WvJ0S"
      },
      "source": [
        "Train the model, keeping track of its loss and accuracy on the training set, and its generalisation performance on the validation set (we need to create another generator over the validation data for this)"
      ]
    },
    {
      "cell_type": "code",
      "metadata": {
        "id": "k1lYNLvFvJ0U"
      },
      "source": [
        "val_gen = generator.flow(val_subjects.index, val_targets)"
      ],
      "execution_count": 16,
      "outputs": []
    },
    {
      "cell_type": "markdown",
      "metadata": {
        "id": "gsz_F9BDvJ0c"
      },
      "source": [
        "Train the model"
      ]
    },
    {
      "cell_type": "code",
      "metadata": {
        "id": "5RS6jymgvJ0d",
        "colab": {
          "base_uri": "https://localhost:8080/"
        },
        "outputId": "1679303f-909a-449a-886c-663f843adcaf"
      },
      "source": [
        "history = model.fit(\n",
        "    train_gen, shuffle=False, epochs=20, verbose=2, validation_data=val_gen\n",
        ")"
      ],
      "execution_count": 17,
      "outputs": [
        {
          "output_type": "stream",
          "text": [
            "Epoch 1/20\n",
            "1/1 - 0s - loss: 1.9703 - categorical_accuracy: 0.1714 - val_loss: 1.8280 - val_categorical_accuracy: 0.3100\n",
            "Epoch 2/20\n",
            "1/1 - 0s - loss: 1.8028 - categorical_accuracy: 0.3357 - val_loss: 1.7332 - val_categorical_accuracy: 0.3060\n",
            "Epoch 3/20\n",
            "1/1 - 0s - loss: 1.6647 - categorical_accuracy: 0.3357 - val_loss: 1.6564 - val_categorical_accuracy: 0.3100\n",
            "Epoch 4/20\n",
            "1/1 - 0s - loss: 1.5500 - categorical_accuracy: 0.3429 - val_loss: 1.5711 - val_categorical_accuracy: 0.3200\n",
            "Epoch 5/20\n",
            "1/1 - 0s - loss: 1.4161 - categorical_accuracy: 0.4286 - val_loss: 1.4692 - val_categorical_accuracy: 0.4160\n",
            "Epoch 6/20\n",
            "1/1 - 0s - loss: 1.2584 - categorical_accuracy: 0.6143 - val_loss: 1.3596 - val_categorical_accuracy: 0.5880\n",
            "Epoch 7/20\n",
            "1/1 - 0s - loss: 1.1041 - categorical_accuracy: 0.8143 - val_loss: 1.2575 - val_categorical_accuracy: 0.7280\n",
            "Epoch 8/20\n",
            "1/1 - 0s - loss: 0.9689 - categorical_accuracy: 0.9286 - val_loss: 1.1679 - val_categorical_accuracy: 0.7940\n",
            "Epoch 9/20\n",
            "1/1 - 0s - loss: 0.8576 - categorical_accuracy: 0.9214 - val_loss: 1.0863 - val_categorical_accuracy: 0.8180\n",
            "Epoch 10/20\n",
            "1/1 - 0s - loss: 0.7449 - categorical_accuracy: 0.9214 - val_loss: 1.0093 - val_categorical_accuracy: 0.8300\n",
            "Epoch 11/20\n",
            "1/1 - 0s - loss: 0.6455 - categorical_accuracy: 0.9500 - val_loss: 0.9396 - val_categorical_accuracy: 0.8320\n",
            "Epoch 12/20\n",
            "1/1 - 0s - loss: 0.5541 - categorical_accuracy: 0.9571 - val_loss: 0.8826 - val_categorical_accuracy: 0.8340\n",
            "Epoch 13/20\n",
            "1/1 - 0s - loss: 0.4959 - categorical_accuracy: 0.9429 - val_loss: 0.8400 - val_categorical_accuracy: 0.8280\n",
            "Epoch 14/20\n",
            "1/1 - 0s - loss: 0.4108 - categorical_accuracy: 0.9714 - val_loss: 0.8100 - val_categorical_accuracy: 0.8200\n",
            "Epoch 15/20\n",
            "1/1 - 0s - loss: 0.3553 - categorical_accuracy: 0.9714 - val_loss: 0.7897 - val_categorical_accuracy: 0.8160\n",
            "Epoch 16/20\n",
            "1/1 - 0s - loss: 0.3300 - categorical_accuracy: 0.9571 - val_loss: 0.7758 - val_categorical_accuracy: 0.8180\n",
            "Epoch 17/20\n",
            "1/1 - 0s - loss: 0.3244 - categorical_accuracy: 0.9643 - val_loss: 0.7652 - val_categorical_accuracy: 0.8140\n",
            "Epoch 18/20\n",
            "1/1 - 0s - loss: 0.2696 - categorical_accuracy: 0.9714 - val_loss: 0.7602 - val_categorical_accuracy: 0.8160\n",
            "Epoch 19/20\n",
            "1/1 - 0s - loss: 0.2570 - categorical_accuracy: 0.9857 - val_loss: 0.7580 - val_categorical_accuracy: 0.8180\n",
            "Epoch 20/20\n",
            "1/1 - 0s - loss: 0.2346 - categorical_accuracy: 0.9786 - val_loss: 0.7578 - val_categorical_accuracy: 0.8200\n"
          ],
          "name": "stdout"
        }
      ]
    },
    {
      "cell_type": "code",
      "metadata": {
        "id": "xfIwZ45GvJ0l",
        "colab": {
          "base_uri": "https://localhost:8080/",
          "height": 585
        },
        "outputId": "790e204e-d809-4257-8ef2-d12af44be385"
      },
      "source": [
        "sg.utils.plot_history(history)"
      ],
      "execution_count": 18,
      "outputs": [
        {
          "output_type": "display_data",
          "data": {
            "image/png": "[encoded data removed]",
            "text/plain": [
              "<Figure size 504x576 with 2 Axes>"
            ]
          },
          "metadata": {
            "tags": [],
            "needs_background": "light"
          }
        }
      ]
    },
    {
      "cell_type": "markdown",
      "metadata": {
        "id": "rGQJKFTHvJ0r"
      },
      "source": [
        "Evaluate the trained model on the test set"
      ]
    },
    {
      "cell_type": "code",
      "metadata": {
        "id": "lDTIa0osvJ0u",
        "colab": {
          "base_uri": "https://localhost:8080/"
        },
        "outputId": "cb11d9c2-e5e7-4736-ddac-2c39393a77b6"
      },
      "source": [
        "test_gen = generator.flow(test_subjects.index, test_targets)\n",
        "test_metrics = model.evaluate(test_gen)\n",
        "print(\"\\nTest Set Metrics:\")\n",
        "for name, val in zip(model.metrics_names, test_metrics):\n",
        "    print(\"\\t{}: {:0.4f}\".format(name, val))"
      ],
      "execution_count": 19,
      "outputs": [
        {
          "output_type": "stream",
          "text": [
            "1/1 [==============================] - 0s 2ms/step - loss: 0.7805 - categorical_accuracy: 0.7984\n",
            "\n",
            "Test Set Metrics:\n",
            "\tloss: 0.7805\n",
            "\tcategorical_accuracy: 0.7984\n"
          ],
          "name": "stdout"
        }
      ]
    },
    {
      "cell_type": "markdown",
      "metadata": {
        "id": "Zk5FwfxovJ01"
      },
      "source": [
        "## Node and link importance via saliency maps"
      ]
    },
    {
      "cell_type": "markdown",
      "metadata": {
        "id": "5seRLW7-vJ02"
      },
      "source": [
        "In order to understand why a selected node is predicted as a certain class we want to find the node feature importance, total node importance, and link importance for nodes and edges in the selected node's neighbourhood (ego-net). These importances give information about the effect of changes in the node's features and its neighbourhood on the prediction of the node, specifically:\n",
        "\n",
        "- **Node feature importance**: Given the selected node $t$ and the model's prediction $s(c)$ for class $c$. The feature importance can be calculated for each node $v$ in the selected node's ego-net where the importance of feature $f$ for node $v$ is the change predicted score $s(c)$ for the selected node when the feature $f$ of node $v$ is perturbed.\n",
        "- **Total node importance**: This is defined as the sum of the feature importances for node $v$ for all features. Nodes with high importance (positive or negative) affect the prediction for the selected node more than links with low importance. \n",
        "- **Link importance**: This is defined as the change in the selected node's predicted score $s(c)$ if the link $e=(u, v)$ is removed from the graph. Links with high importance (positive or negative) affect the prediction for the selected node more than links with low importance."
      ]
    },
    {
      "cell_type": "markdown",
      "metadata": {
        "id": "A9w-AzaFvJ03"
      },
      "source": [
        "To investigate these importances we use the StellarGraph `saliency_maps` routines:"
      ]
    },
    {
      "cell_type": "code",
      "metadata": {
        "id": "7FJtR96BvJ04"
      },
      "source": [
        "from stellargraph.interpretability.saliency_maps import IntegratedGradients"
      ],
      "execution_count": 20,
      "outputs": []
    },
    {
      "cell_type": "markdown",
      "metadata": {
        "id": "SS_-aTpZvJ1B"
      },
      "source": [
        "Select the target node whose prediction is to be interpreted"
      ]
    },
    {
      "cell_type": "code",
      "metadata": {
        "id": "CIT6Ed4XvJ1D"
      },
      "source": [
        "import random\n",
        "graph_nodes = list(G.nodes())\n",
        "target_nid = random.choice(graph_nodes)\n",
        "target_idx = graph_nodes.index(target_nid)\n",
        "y_true = all_targets[target_idx]  # true class of the target node"
      ],
      "execution_count": 32,
      "outputs": []
    },
    {
      "cell_type": "code",
      "metadata": {
        "id": "A_ve8otxvJ1I",
        "colab": {
          "base_uri": "https://localhost:8080/"
        },
        "outputId": "7e3f664d-2e3d-4e28-9a11-0c07e4269155"
      },
      "source": [
        "all_gen = generator.flow(graph_nodes)\n",
        "y_pred = model.predict(all_gen)[0, target_idx]\n",
        "class_of_interest = np.argmax(y_pred)\n",
        "\n",
        "print(\n",
        "    \"Selected node id: {}, \\nTrue label: {}, \\nPredicted scores: {}\".format(\n",
        "        target_nid, y_true, y_pred.round(2)\n",
        "    )\n",
        ")"
      ],
      "execution_count": 33,
      "outputs": [
        {
          "output_type": "stream",
          "text": [
            "Selected node id: 594649, \n",
            "True label: [0 1 0 0 0 0 0], \n",
            "Predicted scores: [0.   0.97 0.02 0.   0.   0.   0.  ]\n"
          ],
          "name": "stdout"
        }
      ]
    },
    {
      "cell_type": "markdown",
      "metadata": {
        "id": "6XjrM--0vJ1Q"
      },
      "source": [
        "Get the node feature importance by using integrated gradients"
      ]
    },
    {
      "cell_type": "code",
      "metadata": {
        "id": "XTN8_jiKvJ1S"
      },
      "source": [
        "int_grad_saliency = IntegratedGradients(model, train_gen)\n"
      ],
      "execution_count": 34,
      "outputs": []
    },
    {
      "cell_type": "markdown",
      "metadata": {
        "id": "9N8j7njPvJ1X"
      },
      "source": [
        "For the parameters of `get_node_importance` method, `X` and `A` are the feature and adjacency matrices, respectively. If `sparse` option is enabled, `A` will be the non-zero values of the adjacency matrix with `A_index` being the indices. `target_idx` is the node of interest, and `class_of_interest` is set as the predicted label of the node. `steps` indicates the number of steps used to approximate the integration in integrated gradients calculation. A larger value of `steps` gives better approximation, at the cost of higher computational overhead."
      ]
    },
    {
      "cell_type": "code",
      "metadata": {
        "id": "LpiyGgpbvJ1Y",
        "colab": {
          "base_uri": "https://localhost:8080/"
        },
        "outputId": "f95f16b3-e59e-4ed6-fdf2-bbd3d91ee0a3"
      },
      "source": [
        "integrated_node_importance = int_grad_saliency.get_node_importance(\n",
        "    target_idx, class_of_interest, steps=50\n",
        ")\n",
        "type(integrated_node_importance)\n"
      ],
      "execution_count": 52,
      "outputs": [
        {
          "output_type": "execute_result",
          "data": {
            "text/plain": [
              "numpy.ndarray"
            ]
          },
          "metadata": {
            "tags": []
          },
          "execution_count": 52
        }
      ]
    },
    {
      "cell_type": "code",
      "metadata": {
        "id": "scoeJ6oxEVPG",
        "colab": {
          "base_uri": "https://localhost:8080/",
          "height": 283
        },
        "outputId": "bd6b55c9-cedc-41f3-90e8-dc384fb56975"
      },
      "source": [
        "\n",
        "plt.bar(np.array([i for i in range(len(integrated_node_importance))]), integrated_node_importance)"
      ],
      "execution_count": 53,
      "outputs": [
        {
          "output_type": "execute_result",
          "data": {
            "text/plain": [
              "<BarContainer object of 2708 artists>"
            ]
          },
          "metadata": {
            "tags": []
          },
          "execution_count": 53
        },
        {
          "output_type": "display_data",
          "data": {
            "image/png": "[encoded data removed]",
            "text/plain": [
              "<Figure size 432x288 with 1 Axes>"
            ]
          },
          "metadata": {
            "tags": [],
            "needs_background": "light"
          }
        }
      ]
    },
    {
      "cell_type": "code",
      "metadata": {
        "id": "hkWlExp0vJ1e",
        "colab": {
          "base_uri": "https://localhost:8080/"
        },
        "outputId": "8366c5a0-1a3a-4ad1-9f6a-66d4be603456"
      },
      "source": [
        "integrated_node_importance.shape"
      ],
      "execution_count": 54,
      "outputs": [
        {
          "output_type": "execute_result",
          "data": {
            "text/plain": [
              "(2708,)"
            ]
          },
          "metadata": {
            "tags": []
          },
          "execution_count": 54
        }
      ]
    },
    {
      "cell_type": "code",
      "metadata": {
        "id": "pe06D5LZvJ1m",
        "colab": {
          "base_uri": "https://localhost:8080/"
        },
        "outputId": "52932665-adbc-46db-c318-e6251ecff18a"
      },
      "source": [
        "print(\"\\nintegrated_node_importance\", integrated_node_importance.round(2))\n",
        "print(\"integrate_node_importance.shape = {}\".format(integrated_node_importance.shape))\n",
        "print(\n",
        "    \"integrated self-importance of target node {}: {}\".format(\n",
        "        target_nid, integrated_node_importance[target_idx].round(2)\n",
        "    )\n",
        ")\n"
      ],
      "execution_count": 55,
      "outputs": [
        {
          "output_type": "stream",
          "text": [
            "\n",
            "integrated_node_importance [0. 0. 0. ... 0. 0. 0.]\n",
            "integrate_node_importance.shape = (2708,)\n",
            "integrated self-importance of target node 594649: 15.21\n"
          ],
          "name": "stdout"
        }
      ]
    },
    {
      "cell_type": "markdown",
      "metadata": {
        "id": "mayLKcA0vJ1r"
      },
      "source": [
        "Check that number of non-zero node importance values is less or equal the number of nodes in target node's K-hop ego net (where K is the number of GCN layers in the model)"
      ]
    },
    {
      "cell_type": "code",
      "metadata": {
        "id": "z9te47W7vJ1t"
      },
      "source": [
        "G_ego = nx.ego_graph(G.to_networkx(), target_nid, radius=len(gcn.activations))"
      ],
      "execution_count": 56,
      "outputs": []
    },
    {
      "cell_type": "code",
      "metadata": {
        "id": "XysXLYajvJ12",
        "colab": {
          "base_uri": "https://localhost:8080/"
        },
        "outputId": "964d36cc-408f-43d1-b4b6-d1f2535d008f"
      },
      "source": [
        "print(\"Number of nodes in the ego graph: {}\".format(len(G_ego.nodes())))\n",
        "print(\n",
        "    \"Number of non-zero elements in integrated_node_importance: {}\".format(\n",
        "        np.count_nonzero(integrated_node_importance)\n",
        "    )\n",
        ")"
      ],
      "execution_count": 57,
      "outputs": [
        {
          "output_type": "stream",
          "text": [
            "Number of nodes in the ego graph: 178\n",
            "Number of non-zero elements in integrated_node_importance: 178\n"
          ],
          "name": "stdout"
        }
      ]
    },
    {
      "cell_type": "markdown",
      "metadata": {
        "id": "F283ho03vJ18"
      },
      "source": [
        "We now compute the link importance using integrated gradients. Integrated gradients are obtained by accumulating the gradients along the path between the baseline (all-zero graph) and the state of the graph. They provide better sensitivity for the graphs with binary features and edges compared with the vanilla gradients. "
      ]
    },
    {
      "cell_type": "code",
      "metadata": {
        "id": "FAxT-3JJvJ19"
      },
      "source": [
        "integrate_link_importance = int_grad_saliency.get_integrated_link_masks(\n",
        "    target_idx, class_of_interest, steps=50\n",
        ")"
      ],
      "execution_count": 59,
      "outputs": []
    },
    {
      "cell_type": "code",
      "metadata": {
        "id": "NoaLqDRNvJ2G",
        "colab": {
          "base_uri": "https://localhost:8080/"
        },
        "outputId": "653596ba-cfe2-4329-bb81-d1fdf654a2d4"
      },
      "source": [
        "integrate_link_importance_dense = np.array(integrate_link_importance.todense())\n",
        "print(\"integrate_link_importance.shape = {}\".format(integrate_link_importance.shape))\n",
        "print(\n",
        "    \"Number of non-zero elements in integrate_link_importance: {}\".format(\n",
        "        np.count_nonzero(integrate_link_importance.todense())\n",
        "    )\n",
        ")"
      ],
      "execution_count": 60,
      "outputs": [
        {
          "output_type": "stream",
          "text": [
            "integrate_link_importance.shape = (2708, 2708)\n",
            "Number of non-zero elements in integrate_link_importance: 192\n"
          ],
          "name": "stdout"
        }
      ]
    },
    {
      "cell_type": "markdown",
      "metadata": {
        "id": "FLsyAKdMvJ2M"
      },
      "source": [
        "We can now find the nodes that have the highest importance to the prediction of the selected node:"
      ]
    },
    {
      "cell_type": "code",
      "metadata": {
        "id": "el-KIu94vJ2N",
        "colab": {
          "base_uri": "https://localhost:8080/"
        },
        "outputId": "b451dc6f-d7a8-4308-ba02-c4210358d72b"
      },
      "source": [
        "sorted_indices = np.argsort(integrate_link_importance_dense.flatten())\n",
        "N = len(graph_nodes)\n",
        "integrated_link_importance_rank = [(k // N, k % N) for k in sorted_indices[::-1]]\n",
        "topk = 10\n",
        "# integrate_link_importance = integrate_link_importance_dense\n",
        "print(\n",
        "    \"Top {} most important links by integrated gradients are:\\n {}\".format(\n",
        "        topk, integrated_link_importance_rank[:topk]\n",
        "    )\n",
        ")"
      ],
      "execution_count": 61,
      "outputs": [
        {
          "output_type": "stream",
          "text": [
            "Top 10 most important links by integrated gradients are:\n",
            " [(2196, 2267), (2196, 380), (2196, 2196), (2196, 163), (2267, 2196), (2196, 938), (2267, 2267), (938, 2196), (938, 1127), (380, 2196)]\n"
          ],
          "name": "stdout"
        }
      ]
    },
    {
      "cell_type": "code",
      "metadata": {
        "id": "ZN_icDs4vJ2V"
      },
      "source": [
        "# Set the labels as an attribute for the nodes in the graph. The labels are used to color the nodes in different classes.\n",
        "nx.set_node_attributes(G_ego, values={x[0]: {\"subject\": x[1]} for x in subjects.items()})"
      ],
      "execution_count": 62,
      "outputs": []
    },
    {
      "cell_type": "markdown",
      "metadata": {
        "id": "x9OIt062vJ2a"
      },
      "source": [
        "In the following, we plot the link and node importance (computed by integrated gradients) of the nodes within the ego graph of the target node. \n",
        "\n",
        "For nodes, the shape of the node indicates the positive/negative importance the node has. 'round' nodes have positive importance while 'diamond' nodes have negative importance. The size of the node indicates the value of the importance, e.g., a large diamond node has higher negative importance. \n",
        "\n",
        "For links, the color of the link indicates the positive/negative importance the link has. 'red' links have positive importance while 'blue' links have negative importance. The width of the link indicates the value of the importance, e.g., a thicker blue link has higher negative importance."
      ]
    },
    {
      "cell_type": "code",
      "metadata": {
        "id": "Ck1LfovqvJ2b",
        "colab": {
          "base_uri": "https://localhost:8080/"
        },
        "outputId": "9940f8ee-e71d-470e-ba6f-e0bd015cb9e0"
      },
      "source": [
        "integrated_node_importance.max()"
      ],
      "execution_count": 63,
      "outputs": [
        {
          "output_type": "execute_result",
          "data": {
            "text/plain": [
              "15.214541288777582"
            ]
          },
          "metadata": {
            "tags": []
          },
          "execution_count": 63
        }
      ]
    },
    {
      "cell_type": "code",
      "metadata": {
        "id": "buL8dhtRvJ2g",
        "colab": {
          "base_uri": "https://localhost:8080/"
        },
        "outputId": "0ecfda6a-f393-4805-9ffa-a0634d6ed1a3"
      },
      "source": [
        "integrate_link_importance.max()"
      ],
      "execution_count": 64,
      "outputs": [
        {
          "output_type": "execute_result",
          "data": {
            "text/plain": [
              "0.1328651898603661"
            ]
          },
          "metadata": {
            "tags": []
          },
          "execution_count": 64
        }
      ]
    },
    {
      "cell_type": "code",
      "metadata": {
        "id": "g2w5si2MvJ2o",
        "colab": {
          "base_uri": "https://localhost:8080/",
          "height": 575
        },
        "outputId": "5332563e-45be-4be5-a01b-600eca16ad74"
      },
      "source": [
        "node_size_factor = 1e2\n",
        "link_width_factor = 2\n",
        "\n",
        "nodes = list(G_ego.nodes())\n",
        "colors = pd.DataFrame(\n",
        "    [v[1][\"subject\"] for v in G_ego.nodes(data=True)], index=nodes, columns=[\"subject\"]\n",
        ")\n",
        "colors = np.argmax(target_encoding.transform(colors), axis=1) + 1\n",
        "\n",
        "fig, ax = plt.subplots(1, 1, figsize=(15, 10))\n",
        "pos = nx.spring_layout(G_ego)\n",
        "\n",
        "# Draw ego as large and red\n",
        "node_sizes = [integrated_node_importance[graph_nodes.index(k)] for k in nodes]\n",
        "node_shapes = [\"o\" if w > 0 else \"d\" for w in node_sizes]\n",
        "\n",
        "positive_colors, negative_colors = [], []\n",
        "positive_node_sizes, negative_node_sizes = [], []\n",
        "positive_nodes, negative_nodes = [], []\n",
        "node_size_scale = node_size_factor / np.max(node_sizes)\n",
        "for k in range(len(nodes)):\n",
        "    if nodes[k] == target_idx:\n",
        "        continue\n",
        "    if node_shapes[k] == \"o\":\n",
        "        positive_colors.append(colors[k])\n",
        "        positive_nodes.append(nodes[k])\n",
        "        positive_node_sizes.append(node_size_scale * node_sizes[k])\n",
        "\n",
        "    else:\n",
        "        negative_colors.append(colors[k])\n",
        "        negative_nodes.append(nodes[k])\n",
        "        negative_node_sizes.append(node_size_scale * abs(node_sizes[k]))\n",
        "\n",
        "# Plot the ego network with the node importances\n",
        "cmap = plt.get_cmap(\"jet\", np.max(colors) - np.min(colors) + 1)\n",
        "nc = nx.draw_networkx_nodes(\n",
        "    G_ego,\n",
        "    pos,\n",
        "    nodelist=positive_nodes,\n",
        "    node_color=positive_colors,\n",
        "    cmap=cmap,\n",
        "    node_size=positive_node_sizes,\n",
        "    # with_labels=False,\n",
        "    vmin=np.min(colors) - 0.5,\n",
        "    vmax=np.max(colors) + 0.5,\n",
        "    node_shape=\"o\",\n",
        ")\n",
        "nc = nx.draw_networkx_nodes(\n",
        "    G_ego,\n",
        "    pos,\n",
        "    nodelist=negative_nodes,\n",
        "    node_color=negative_colors,\n",
        "    cmap=cmap,\n",
        "    node_size=negative_node_sizes,\n",
        "    # with_labels=False,\n",
        "    vmin=np.min(colors) - 0.5,\n",
        "    vmax=np.max(colors) + 0.5,\n",
        "    node_shape=\"d\",\n",
        ")\n",
        "# Draw the target node as a large star colored by its true subject\n",
        "nx.draw_networkx_nodes(\n",
        "    G_ego,\n",
        "    pos,\n",
        "    nodelist=[target_nid],\n",
        "    node_size=50 * abs(node_sizes[nodes.index(target_nid)]),\n",
        "    node_shape=\"*\",\n",
        "    node_color=[colors[nodes.index(target_nid)]],\n",
        "    cmap=cmap,\n",
        "    vmin=np.min(colors) - 0.5,\n",
        "    vmax=np.max(colors) + 0.5,\n",
        "    label=\"Target\",\n",
        ")\n",
        "\n",
        "# Draw the edges with the edge importances\n",
        "edges = G_ego.edges()\n",
        "weights = [\n",
        "    integrate_link_importance[graph_nodes.index(u), graph_nodes.index(v)]\n",
        "    for u, v in edges\n",
        "]\n",
        "edge_colors = [\"red\" if w > 0 else \"blue\" for w in weights]\n",
        "weights = link_width_factor * np.abs(weights) / np.max(weights)\n",
        "\n",
        "ec = nx.draw_networkx_edges(G_ego, pos, edge_color=edge_colors, width=weights)\n",
        "plt.legend()\n",
        "plt.colorbar(nc, ticks=np.arange(np.min(colors), np.max(colors) + 1))\n",
        "plt.axis(\"off\")\n",
        "plt.show()"
      ],
      "execution_count": 65,
      "outputs": [
        {
          "output_type": "display_data",
          "data": {
            "image/png": "[encoded data removed]",
            "text/plain": [
              "<Figure size 1080x720 with 2 Axes>"
            ]
          },
          "metadata": {
            "tags": [],
            "needs_background": "light"
          }
        }
      ]
    },
    {
      "cell_type": "markdown",
      "metadata": {
        "id": "l6ZC40M5vJ2x"
      },
      "source": [
        "We then remove the node or edge in the ego graph one by one and check how the prediction changes. By doing so, we can obtain the ground truth importance of the nodes and edges. Comparing the following figure and the above one can show the effectiveness of integrated gradients as the importance approximations are relatively consistent with the ground truth."
      ]
    },
    {
      "cell_type": "code",
      "metadata": {
        "id": "uidsORk6vJ2z"
      },
      "source": [
        "(X, _, A_index, A), _ = train_gen[0]"
      ],
      "execution_count": 66,
      "outputs": []
    },
    {
      "cell_type": "code",
      "metadata": {
        "id": "iRLgw2DWvJ28",
        "colab": {
          "base_uri": "https://localhost:8080/",
          "height": 611
        },
        "outputId": "0cfa97d3-ed9d-45e1-c9ee-19a9b50cc148"
      },
      "source": [
        "X_bk = deepcopy(X)\n",
        "A_bk = deepcopy(A)\n",
        "selected_nodes = np.array([[target_idx]], dtype=\"int32\")\n",
        "nodes = [graph_nodes.index(v) for v in G_ego.nodes()]\n",
        "edges = [(graph_nodes.index(u), graph_nodes.index(v)) for u, v in G_ego.edges()]\n",
        "clean_prediction = model.predict([X, selected_nodes, A_index, A]).squeeze()\n",
        "predict_label = np.argmax(clean_prediction)\n",
        "\n",
        "groud_truth_node_importance = np.zeros((N,))\n",
        "for node in nodes:\n",
        "    # we set all the features of the node to zero to check the ground truth node importance.\n",
        "    X_perturb = deepcopy(X_bk)\n",
        "    X_perturb[:, node, :] = 0\n",
        "    predict_after_perturb = model.predict(\n",
        "        [X_perturb, selected_nodes, A_index, A]\n",
        "    ).squeeze()\n",
        "    groud_truth_node_importance[node] = (\n",
        "        clean_prediction[predict_label] - predict_after_perturb[predict_label]\n",
        "    )\n",
        "\n",
        "node_shapes = [\n",
        "    \"o\" if groud_truth_node_importance[k] > 0 else \"d\" for k in range(len(nodes))\n",
        "]\n",
        "positive_colors, negative_colors = [], []\n",
        "positive_node_sizes, negative_node_sizes = [], []\n",
        "positive_nodes, negative_nodes = [], []\n",
        "# node_size_scale is used for better visulization of nodes\n",
        "node_size_scale = node_size_factor / max(groud_truth_node_importance)\n",
        "\n",
        "for k in range(len(node_shapes)):\n",
        "    if nodes[k] == target_idx:\n",
        "        continue\n",
        "    if node_shapes[k] == \"o\":\n",
        "        positive_colors.append(colors[k])\n",
        "        positive_nodes.append(graph_nodes[nodes[k]])\n",
        "        positive_node_sizes.append(\n",
        "            node_size_scale * groud_truth_node_importance[nodes[k]]\n",
        "        )\n",
        "    else:\n",
        "        negative_colors.append(colors[k])\n",
        "        negative_nodes.append(graph_nodes[nodes[k]])\n",
        "        negative_node_sizes.append(\n",
        "            node_size_scale * abs(groud_truth_node_importance[nodes[k]])\n",
        "        )\n",
        "X = deepcopy(X_bk)\n",
        "groud_truth_edge_importance = np.zeros((N, N))\n",
        "G_edge_indices = [(A_index[0, k, 0], A_index[0, k, 1]) for k in range(A.shape[1])]\n",
        "\n",
        "for edge in edges:\n",
        "    edge_index = G_edge_indices.index((edge[0], edge[1]))\n",
        "    origin_val = A[0, edge_index]\n",
        "\n",
        "    A[0, edge_index] = 0\n",
        "    # we set the weight of a given edge to zero to check the ground truth link importance\n",
        "    predict_after_perturb = model.predict([X, selected_nodes, A_index, A]).squeeze()\n",
        "    groud_truth_edge_importance[edge[0], edge[1]] = (\n",
        "        predict_after_perturb[predict_label] - clean_prediction[predict_label]\n",
        "    ) / (0 - 1)\n",
        "    A[0, edge_index] = origin_val\n",
        "\n",
        "fig, ax = plt.subplots(1, 1, figsize=(15, 10))\n",
        "cmap = plt.get_cmap(\"jet\", np.max(colors) - np.min(colors) + 1)\n",
        "# Draw the target node as a large star colored by its true subject\n",
        "nx.draw_networkx_nodes(\n",
        "    G_ego,\n",
        "    pos,\n",
        "    nodelist=[target_nid],\n",
        "    node_size=50 * abs(node_sizes[nodes.index(target_idx)]),\n",
        "    node_color=[colors[nodes.index(target_idx)]],\n",
        "    cmap=cmap,\n",
        "    node_shape=\"*\",\n",
        "    vmin=np.min(colors) - 0.5,\n",
        "    vmax=np.max(colors) + 0.5,\n",
        "    label=\"Target\",\n",
        ")\n",
        "# Draw the ego net\n",
        "nc = nx.draw_networkx_nodes(\n",
        "    G_ego,\n",
        "    pos,\n",
        "    nodelist=positive_nodes,\n",
        "    node_color=positive_colors,\n",
        "    cmap=cmap,\n",
        "    node_size=positive_node_sizes,\n",
        "    # with_labels=False,\n",
        "    vmin=np.min(colors) - 0.5,\n",
        "    vmax=np.max(colors) + 0.5,\n",
        "    node_shape=\"o\",\n",
        ")\n",
        "nc = nx.draw_networkx_nodes(\n",
        "    G_ego,\n",
        "    pos,\n",
        "    nodelist=negative_nodes,\n",
        "    node_color=negative_colors,\n",
        "    cmap=cmap,\n",
        "    node_size=negative_node_sizes,\n",
        "    # with_labels=False,\n",
        "    vmin=np.min(colors) - 0.5,\n",
        "    vmax=np.max(colors) + 0.5,\n",
        "    node_shape=\"d\",\n",
        ")\n",
        "edges = G_ego.edges()\n",
        "weights = [\n",
        "    groud_truth_edge_importance[graph_nodes.index(u), graph_nodes.index(v)]\n",
        "    for u, v in edges\n",
        "]\n",
        "edge_colors = [\"red\" if w > 0 else \"blue\" for w in weights]\n",
        "weights = link_width_factor * np.abs(weights) / np.max(weights)\n",
        "\n",
        "ec = nx.draw_networkx_edges(G_ego, pos, edge_color=edge_colors, width=weights)\n",
        "plt.legend()\n",
        "plt.colorbar(nc, ticks=np.arange(np.min(colors), np.max(colors) + 1))\n",
        "plt.axis(\"off\")\n",
        "plt.show()"
      ],
      "execution_count": 67,
      "outputs": [
        {
          "output_type": "stream",
          "text": [
            "/usr/local/lib/python3.6/dist-packages/matplotlib/collections.py:885: RuntimeWarning: invalid value encountered in sqrt\n",
            "  scale = np.sqrt(self._sizes) * dpi / 72.0 * self._factor\n"
          ],
          "name": "stderr"
        },
        {
          "output_type": "display_data",
          "data": {
            "image/png": "[encoded data removed]",
            "text/plain": [
              "<Figure size 1080x720 with 2 Axes>"
            ]
          },
          "metadata": {
            "tags": [],
            "needs_background": "light"
          }
        }
      ]
    },
    {
      "cell_type": "markdown",
      "metadata": {
        "id": "lQNvk8PbvJ3F"
      },
      "source": [
        "By comparing the above two figures, one can see that the integrated gradients are quite consistent with the brute-force approach. The main benefit of using integrated gradients is scalability. The gradient operations are very efficient to compute on deep learning frameworks with the parallelism provided by GPUs. Also, integrated gradients can give the importance of individual node features, for all nodes in the graph. Achieving this by brute-force approach is often non-trivial. "
      ]
    },
    {
      "cell_type": "markdown",
      "metadata": {
        "nbsphinx": "hidden",
        "tags": [
          "CloudRunner"
        ],
        "id": "08cUDefAvJ3F"
      },
      "source": [
        "<table><tr><td>Run the latest release of this notebook:</td><td><a href=\"https://mybinder.org/v2/gh/stellargraph/stellargraph/master?urlpath=lab/tree/demos/interpretability/gcn-sparse-node-link-importance.ipynb\" alt=\"Open In Binder\" target=\"_parent\"><img src=\"https://mybinder.org/badge_logo.svg\"/></a></td><td><a href=\"https://colab.research.google.com/github/stellargraph/stellargraph/blob/master/demos/interpretability/gcn-sparse-node-link-importance.ipynb\" alt=\"Open In Colab\" target=\"_parent\"><img src=\"https://colab.research.google.com/assets/colab-badge.svg\"/></a></td></tr></table>"
      ]
    }
  ]
}